{
 "cells": [
  {
   "cell_type": "markdown",
   "metadata": {},
   "source": [
    "# Introduction\n",
    "\n",
    "Networks: A set of objects (nodes) with interconnections (edges).\n",
    "\n",
    "Why study networks? Because they are everywhere!\n",
    "\n",
    "Networks provide a powerful way to think about a variety of phenomena:\n",
    "\n",
    "- On a gigantic scale, galaxies are mapped as a network held together by gravity. \n",
    "- On a smaller but still massive scale, countries form networks of all sorts -- based on trade, migration, flights, etc.\n",
    "- At the human level, which is most familiar to us, we map social networks to study social ties, positions, power, information flows, etc.\n",
    "- At a microscopic level, brain activities are widely studied by looking at complex networks of brain cells and neurons. \n",
    "\n",
    "![](img/networks-everywhere.png)\n",
    "\n",
    "## Social Networks\n",
    "\n",
    "Social networks are commonly known. Social networks can be about\n",
    "\n",
    "- Friendship in a karate club\n",
    "- Email communication among employees of a large company\n",
    "- Co-authorship among researchers in a field\n",
    "\n",
    "In education, many types of social networks have been examined, ranging from advice-seeking networks in schools, friendship networks in the classroom, interaction networks in MOOC discussion forums, among others.\n",
    "\n",
    "## Network Analysis in General\n",
    "\n",
    "Network analysis can be applied to anything that can be seen as connections between nodes.\n",
    "\n",
    "While social networks are most popular, network analysis is not limited to analyzing social relations. \n",
    "\n",
    "In digital learning environments, network analysis can be used to examine student interaction networks in digital spaces (e.g., online forums), following relationships on social media, the spread of ideas in a community, etc. \n"
   ]
  },
  {
   "cell_type": "markdown",
   "metadata": {},
   "source": [
    "## Basic Concepts\n",
    "\n",
    "In a network,\n",
    "\n",
    "- There are things, referred to as *nodes* or *vertices*\n",
    "- Nodes have connections to other nodes, referred to as *ties*, *edges*, or *links*\n",
    "- Nodes can have different attributes\n",
    "- Links can have different attributes that define their types or strengths\n",
    "\n",
    "For example, here is a network of members of a class interacting with each other.\n",
    "\n",
    "![](img/week2-student-network.png)\n",
    "\n",
    "In this network,\n",
    "\n",
    "- Each node represents a person\n",
    "- Each edge (directed) represents interactions from one person to another\n",
    "- Nodes have different attributes, including identity (being the instructor) and participation level (e.g., being on time)\n",
    "- Each link has a weight that measures the number of interactions\n",
    "\n",
    "Beyond this example, in a network of classroom interactions, there could be several different types of nodes:\n",
    "\n",
    "- Teacher\n",
    "- TA\n",
    "- Student\n",
    "- Project Leader\n",
    "\n",
    "Within the network, there could also be several types of links:\n",
    "\n",
    "- Collaborative relationship\n",
    "- Sharing access to the same learning resource\n",
    "- Help-seeking\n",
    "- Insult\n",
    "\n",
    "As shown in these examples, links can be *directed* or *undirected*.\n",
    "\n",
    "Within the network, links could be stronger or weaker due to\n",
    "\n",
    "- Intensity of relationship\n",
    "- Frequency of act\n",
    "- Timing of act\n"
   ]
  },
  {
   "cell_type": "markdown",
   "metadata": {},
   "source": [
    "\n",
    "## What we can do with such a network?\n",
    "\n",
    "Studying the structure of a network allows us to answer questions about complex phenomena.\n",
    "\n",
    "We will explore different network techniques to study the structure of networks, with a focus on social networks."
   ]
  }
 ],
 "metadata": {
  "kernelspec": {
   "display_name": "Python 3",
   "language": "python",
   "name": "python3"
  },
  "language_info": {
   "name": "python",
   "version": "3.11.1"
  }
 },
 "nbformat": 4,
 "nbformat_minor": 2
}
